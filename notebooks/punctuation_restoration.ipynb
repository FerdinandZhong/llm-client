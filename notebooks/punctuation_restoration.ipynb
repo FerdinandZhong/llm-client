{
 "cells": [
  {
   "cell_type": "code",
   "execution_count": 1,
   "id": "a8e22515-e8e5-4dbd-9679-9057c9d55667",
   "metadata": {
    "tags": []
   },
   "outputs": [],
   "source": [
    "import logging\n",
    "import re\n",
    "from typing import List, Union\n",
    "\n",
    "import numpy as np\n",
    "import torch\n",
    "from sklearn.model_selection import train_test_split\n",
    "from torch.utils.data import Dataset\n",
    "from tqdm import tqdm"
   ]
  },
  {
   "cell_type": "code",
   "execution_count": 7,
   "id": "74c5d31d-b5bc-4e38-9a8d-6abbf2e61488",
   "metadata": {
    "tags": []
   },
   "outputs": [],
   "source": [
    "def _read_data(\n",
    "    source_data, target_sequence_length, is_return_list\n",
    ") -> Union[List[List], List[str]]:\n",
    "    def read_line(text_line):\n",
    "        return text_line.strip().split(\"\\t\")\n",
    "\n",
    "    token_docs = []\n",
    "    tag_docs = []\n",
    "    line_index = 0\n",
    "\n",
    "    token_doc = []\n",
    "    tag_doc = []\n",
    "    if isinstance(source_data, List):\n",
    "        pbar = tqdm(source_data)\n",
    "    else:\n",
    "        with open(source_data, \"r\") as data_file:\n",
    "            pbar = tqdm(data_file.readlines())\n",
    "    for index, line in enumerate(pbar):\n",
    "        if line == \"\\n\":\n",
    "        #     token_docs.append(token_doc)\n",
    "        #     tag_docs.append(tag_doc)\n",
    "        #     pbar.update(len(token_doc))\n",
    "        #     token_doc = []\n",
    "        #     tag_doc = []\n",
    "            continue\n",
    "        processed_line = read_line(line)\n",
    "        try:\n",
    "            assert len(processed_line) == 2, \"bad line\"\n",
    "            token, tag = processed_line\n",
    "            token_doc.append(token)\n",
    "            tag_doc.append(processed_line[1])\n",
    "        except AssertionError:\n",
    "            print(f\"ignore the bad line: {line}, index: {index}\")\n",
    "            continue\n",
    "        line_index += 1\n",
    "        if len(token_doc) >= target_sequence_length:\n",
    "            try:\n",
    "                _verify_senquence(token_doc, target_sequence_length)\n",
    "                _verify_senquence(tag_doc, target_sequence_length)\n",
    "                if is_return_list:\n",
    "                    token_docs.append(token_doc)\n",
    "                else:\n",
    "                    token_docs.append(\"\".join(token_doc))\n",
    "                tag_docs.append(tag_doc)\n",
    "                token_doc = []\n",
    "                tag_doc = []\n",
    "            except AssertionError:\n",
    "                print(f\"error generating sequence: {token_doc}\")\n",
    "                token_doc = []\n",
    "                tag_doc = []\n",
    "                continue\n",
    "            pbar.update(len(token_doc))\n",
    "    try:\n",
    "        assert (len(token_doc)==len(tag_doc)), \"Not equal length\"\n",
    "        if is_return_list:\n",
    "            token_docs.append(token_doc)\n",
    "        else:\n",
    "            token_docs.append(\"\".join(token_doc))\n",
    "        tag_docs.append(tag_doc)\n",
    "        pbar.update(len(token_doc))\n",
    "    except AssertionError:\n",
    "        print(f\"error generating sequence: {token_doc}\")\n",
    "\n",
    "    pbar.close()\n",
    "\n",
    "    return token_docs, tag_docs\n",
    "\n",
    "\n",
    "def _verify_senquence(sequence, target_sequence_length):\n",
    "    assert (\n",
    "        target_sequence_length <= len(sequence)\n",
    "    ), \"wrong sequence length\"\n",
    "\n",
    "\n",
    "def process_data(\n",
    "    source_data, target_sequence_length, is_return_list=True\n",
    "):\n",
    "    \"\"\"\n",
    "    Function for generation of tokenized corpus and relevant tags\n",
    "\n",
    "    Args:\n",
    "        source_data(str or List): path of input data or input data\n",
    "        target_sequence_length(int): target sequence length of one sample\n",
    "    \"\"\"\n",
    "    print(\"load data\")\n",
    "    texts, tags = _read_data(\n",
    "        source_data,\n",
    "        target_sequence_length,\n",
    "        is_return_list=is_return_list,\n",
    "    )\n",
    "    return texts, tags"
   ]
  },
  {
   "cell_type": "code",
   "execution_count": 8,
   "id": "19115fda-1b5e-4bb2-b056-b3493ff59df0",
   "metadata": {
    "tags": []
   },
   "outputs": [
    {
     "name": "stdout",
     "output_type": "stream",
     "text": [
      "load data\n"
     ]
    },
    {
     "name": "stderr",
     "output_type": "stream",
     "text": [
      "100%|██████████| 1220989/1220989 [00:01<00:00, 1105926.89it/s]\n"
     ]
    }
   ],
   "source": [
    "with open(\"/root/autodl-tmp/datasets/mml-zh/token_tag_files/train_token_tag_data.txt\", \"r\") as fb:\n",
    "    train_source_data = fb.readlines()\n",
    "\n",
    "train_texts, train_tags = process_data(train_source_data, 256)"
   ]
  },
  {
   "cell_type": "code",
   "execution_count": 9,
   "id": "0700b625-38a0-4a14-ac3e-2ec789a2b0ce",
   "metadata": {
    "tags": []
   },
   "outputs": [
    {
     "data": {
      "text/plain": [
       "4394"
      ]
     },
     "execution_count": 9,
     "metadata": {},
     "output_type": "execute_result"
    }
   ],
   "source": [
    "len(train_texts)"
   ]
  },
  {
   "cell_type": "markdown",
   "id": "2b67ca64-9572-4916-8ddc-0371e3e30fdb",
   "metadata": {},
   "source": [
    "## Prediction with llama2"
   ]
  },
  {
   "cell_type": "code",
   "execution_count": 10,
   "id": "59103285-2454-42e9-975f-de97629743b7",
   "metadata": {
    "tags": []
   },
   "outputs": [
    {
     "name": "stderr",
     "output_type": "stream",
     "text": [
      "/root/miniconda3/envs/llm-tgi-env/lib/python3.9/site-packages/tqdm/auto.py:21: TqdmWarning: IProgress not found. Please update jupyter and ipywidgets. See https://ipywidgets.readthedocs.io/en/stable/user_install.html\n",
      "  from .autonotebook import tqdm as notebook_tqdm\n"
     ]
    },
    {
     "ename": "TypeError",
     "evalue": "__init__() got an unexpected keyword argument 'verbose'",
     "output_type": "error",
     "traceback": [
      "\u001b[0;31m---------------------------------------------------------------------------\u001b[0m",
      "\u001b[0;31mTypeError\u001b[0m                                 Traceback (most recent call last)",
      "Cell \u001b[0;32mIn[10], line 8\u001b[0m\n\u001b[1;32m      4\u001b[0m \u001b[38;5;28;01mimport\u001b[39;00m \u001b[38;5;21;01mtime\u001b[39;00m\n\u001b[1;32m      6\u001b[0m config_yaml \u001b[38;5;241m=\u001b[39m \u001b[38;5;124m\"\u001b[39m\u001b[38;5;124m/root/llm_client/config_yamls/llama2-hf.yaml\u001b[39m\u001b[38;5;124m\"\u001b[39m\n\u001b[0;32m----> 8\u001b[0m pipeline \u001b[38;5;241m=\u001b[39m \u001b[43mPipeline\u001b[49m\u001b[43m(\u001b[49m\u001b[43mconfig_yaml\u001b[49m\u001b[43m,\u001b[49m\u001b[43m \u001b[49m\u001b[43mverbose\u001b[49m\u001b[38;5;241;43m=\u001b[39;49m\u001b[38;5;241;43m1\u001b[39;49m\u001b[43m)\u001b[49m\n",
      "\u001b[0;31mTypeError\u001b[0m: __init__() got an unexpected keyword argument 'verbose'"
     ]
    }
   ],
   "source": [
    "from llm_client.pipeline import Pipeline\n",
    "from typing import List\n",
    "import asyncio\n",
    "import time\n",
    "\n",
    "config_yaml = \"/root/llm_client/config_yamls/llama2-hf.yaml\"\n",
    "\n",
    "pipeline = Pipeline(config_yaml, verbose=1)"
   ]
  },
  {
   "cell_type": "code",
   "execution_count": null,
   "id": "a4bddbf5-3c0e-4128-b065-94f6d3cc1c68",
   "metadata": {},
   "outputs": [],
   "source": []
  }
 ],
 "metadata": {
  "kernelspec": {
   "display_name": "llm-tgi-env",
   "language": "python",
   "name": "llm-tgi-env"
  },
  "language_info": {
   "codemirror_mode": {
    "name": "ipython",
    "version": 3
   },
   "file_extension": ".py",
   "mimetype": "text/x-python",
   "name": "python",
   "nbconvert_exporter": "python",
   "pygments_lexer": "ipython3",
   "version": "3.9.17"
  }
 },
 "nbformat": 4,
 "nbformat_minor": 5
}

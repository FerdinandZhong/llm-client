{
 "cells": [
  {
   "cell_type": "code",
   "execution_count": 1,
   "id": "8cf8109a-03d7-426b-8a43-25806f9bdbeb",
   "metadata": {},
   "outputs": [
    {
     "name": "stderr",
     "output_type": "stream",
     "text": [
      "/tmp/ipykernel_85053/1669474368.py:1: DeprecationWarning: \n",
      "Pyarrow will become a required dependency of pandas in the next major release of pandas (pandas 3.0),\n",
      "(to allow more performant data types, such as the Arrow string type, and better interoperability with other libraries)\n",
      "but was not found to be installed on your system.\n",
      "If this would cause problems for you,\n",
      "please provide us feedback at https://github.com/pandas-dev/pandas/issues/54466\n",
      "        \n",
      "  import pandas as pd\n",
      "/root/miniforge3/envs/llm_cultural_values_env/lib/python3.9/site-packages/tqdm/auto.py:21: TqdmWarning: IProgress not found. Please update jupyter and ipywidgets. See https://ipywidgets.readthedocs.io/en/stable/user_install.html\n",
      "  from .autonotebook import tqdm as notebook_tqdm\n"
     ]
    }
   ],
   "source": [
    "import pandas as pd\n",
    "from llm_client.pipeline import Pipeline\n",
    "import time\n",
    "from llm_client.values_alignment.experiments_utils import get_experiment_result\n",
    "from llm_client.values_alignment.experiments_utils import generate_question_prompts"
   ]
  },
  {
   "cell_type": "markdown",
   "id": "a288347a-1da0-43b0-85ac-dcdef8d237d1",
   "metadata": {},
   "source": [
    "# Experiments"
   ]
  },
  {
   "cell_type": "code",
   "execution_count": 2,
   "id": "ebc2e145-9ec4-4871-abf7-225c4774f563",
   "metadata": {},
   "outputs": [],
   "source": [
    "root_path = \"/root/Projects/llm-client/notebooks/values_alignment\""
   ]
  },
  {
   "cell_type": "code",
   "execution_count": 3,
   "id": "44660dd0-5edb-40dd-a4db-21550a60618d",
   "metadata": {},
   "outputs": [],
   "source": [
    "en_additional_prompt = \"Response in JSON format: {\\\"answer_number\\\": 1, \\\"reason\\\": \\\"this is the reason\\\"}\\n\"\n",
    "cn_additional_prompt = \"JSON格式示例为：{\\\"答案序号\\\": 1, \\\"原因\\\": \\\"中文回答的理由\\\"}\\n\""
   ]
  },
  {
   "cell_type": "code",
   "execution_count": 4,
   "id": "c4715a28-f58a-426e-8cdc-2c9f05506fbc",
   "metadata": {},
   "outputs": [
    {
     "name": "stdout",
     "output_type": "stream",
     "text": [
      "(24, 8)\n"
     ]
    },
    {
     "data": {
      "text/html": [
       "<div>\n",
       "<style scoped>\n",
       "    .dataframe tbody tr th:only-of-type {\n",
       "        vertical-align: middle;\n",
       "    }\n",
       "\n",
       "    .dataframe tbody tr th {\n",
       "        vertical-align: top;\n",
       "    }\n",
       "\n",
       "    .dataframe thead th {\n",
       "        text-align: right;\n",
       "    }\n",
       "</style>\n",
       "<table border=\"1\" class=\"dataframe\">\n",
       "  <thead>\n",
       "    <tr style=\"text-align: right;\">\n",
       "      <th></th>\n",
       "      <th>question_number</th>\n",
       "      <th>questions</th>\n",
       "      <th>prompt</th>\n",
       "      <th>option_1</th>\n",
       "      <th>option_2</th>\n",
       "      <th>option_3</th>\n",
       "      <th>option_4</th>\n",
       "      <th>option_5</th>\n",
       "    </tr>\n",
       "  </thead>\n",
       "  <tbody>\n",
       "    <tr>\n",
       "      <th>0</th>\n",
       "      <td>m01</td>\n",
       "      <td>have sufficient time for your personal or home...</td>\n",
       "      <td>Please think of an ideal job, disregarding you...</td>\n",
       "      <td>1 = of utmost importance</td>\n",
       "      <td>2 = very important</td>\n",
       "      <td>3 = of moderate importance</td>\n",
       "      <td>4 = of little importance</td>\n",
       "      <td>5 = of very little or no importance</td>\n",
       "    </tr>\n",
       "    <tr>\n",
       "      <th>1</th>\n",
       "      <td>m02</td>\n",
       "      <td>have a boss (direct superior) you can respect</td>\n",
       "      <td>None</td>\n",
       "      <td>None</td>\n",
       "      <td>None</td>\n",
       "      <td>None</td>\n",
       "      <td>None</td>\n",
       "      <td>None</td>\n",
       "    </tr>\n",
       "    <tr>\n",
       "      <th>2</th>\n",
       "      <td>m03</td>\n",
       "      <td>get recognition for good performance</td>\n",
       "      <td>None</td>\n",
       "      <td>None</td>\n",
       "      <td>None</td>\n",
       "      <td>None</td>\n",
       "      <td>None</td>\n",
       "      <td>None</td>\n",
       "    </tr>\n",
       "    <tr>\n",
       "      <th>3</th>\n",
       "      <td>m04</td>\n",
       "      <td>have security of employment</td>\n",
       "      <td>None</td>\n",
       "      <td>None</td>\n",
       "      <td>None</td>\n",
       "      <td>None</td>\n",
       "      <td>None</td>\n",
       "      <td>None</td>\n",
       "    </tr>\n",
       "    <tr>\n",
       "      <th>4</th>\n",
       "      <td>m05</td>\n",
       "      <td>have pleasant people to work with</td>\n",
       "      <td>None</td>\n",
       "      <td>None</td>\n",
       "      <td>None</td>\n",
       "      <td>None</td>\n",
       "      <td>None</td>\n",
       "      <td>None</td>\n",
       "    </tr>\n",
       "  </tbody>\n",
       "</table>\n",
       "</div>"
      ],
      "text/plain": [
       "  question_number                                          questions  \\\n",
       "0             m01  have sufficient time for your personal or home...   \n",
       "1             m02      have a boss (direct superior) you can respect   \n",
       "2             m03               get recognition for good performance   \n",
       "3             m04                        have security of employment   \n",
       "4             m05                  have pleasant people to work with   \n",
       "\n",
       "                                              prompt  \\\n",
       "0  Please think of an ideal job, disregarding you...   \n",
       "1                                               None   \n",
       "2                                               None   \n",
       "3                                               None   \n",
       "4                                               None   \n",
       "\n",
       "                   option_1            option_2                    option_3  \\\n",
       "0  1 = of utmost importance  2 = very important  3 = of moderate importance   \n",
       "1                      None                None                        None   \n",
       "2                      None                None                        None   \n",
       "3                      None                None                        None   \n",
       "4                      None                None                        None   \n",
       "\n",
       "                   option_4                             option_5  \n",
       "0  4 = of little importance  5 = of very little or no importance  \n",
       "1                      None                                 None  \n",
       "2                      None                                 None  \n",
       "3                      None                                 None  \n",
       "4                      None                                 None  "
      ]
     },
     "execution_count": 4,
     "metadata": {},
     "output_type": "execute_result"
    }
   ],
   "source": [
    "en_question_df = pd.read_csv(f\"{root_path}/vsm2013_english_questions.csv\")\n",
    "en_question_df = en_question_df.where(pd.notnull(en_question_df), None)\n",
    "print(en_question_df.shape)\n",
    "en_question_df.head()"
   ]
  },
  {
   "cell_type": "code",
   "execution_count": 5,
   "id": "2134d275-5850-4449-84ee-054f4771181e",
   "metadata": {},
   "outputs": [
    {
     "name": "stdout",
     "output_type": "stream",
     "text": [
      "[(\"Please think of an ideal job, disregarding your present job, if you have one. In choosing an ideal job, how important would it be to you to do work that is interesting? Please provide an answer chosen from \\n{options}\\nAssume you are from {nation} with nationality of birth being {nation}, currently {age} years old, working as a {gender} employee in a mid-sized company located in {city}. Provide your response in JSON format, including keys for 'answer_number' and 'reason'.\", ['1 = of utmost importance', '2 = very important', '3 = of moderate importance', '4 = of little importance', '5 = of very little or no importance']), (\"Please think of an ideal job, disregarding your present job, if you have one. In choosing an ideal job, how important would it be to you to be consulted by your boss\\nin decisions involving your work? Please provide an answer chosen from \\n{options}\\nAssume you are from {nation} with nationality of birth being {nation}, currently {age} years old, working as a {gender} employee in a mid-sized company located in {city}. Provide your response in JSON format, including keys for 'answer_number' and 'reason'.\", ['1 = of utmost importance', '2 = very important', '3 = of moderate importance', '4 = of little importance', '5 = of very little or no importance']), (\"Please think of an ideal job, disregarding your present job, if you have one. In choosing an ideal job, how important would it be to you to live in a desirable area? Please provide an answer chosen from \\n{options}\\nAssume you are from {nation} with nationality of birth being {nation}, currently {age} years old, working as a {gender} employee in a mid-sized company located in {city}. Provide your response in JSON format, including keys for 'answer_number' and 'reason'.\", ['1 = of utmost importance', '2 = very important', '3 = of moderate importance', '4 = of little importance', '5 = of very little or no importance']), (\"Please think of an ideal job, disregarding your present job, if you have one. In choosing an ideal job, how important would it be to you to have a job respected by your family and friends? Please provide an answer chosen from \\n{options}\\nAssume you are from {nation} with nationality of birth being {nation}, currently {age} years old, working as a {gender} employee in a mid-sized company located in {city}. Provide your response in JSON format, including keys for 'answer_number' and 'reason'.\", ['1 = of utmost importance', '2 = very important', '3 = of moderate importance', '4 = of little importance', '5 = of very little or no importance']), (\"Please think of an ideal job, disregarding your present job, if you have one. In choosing an ideal job, how important would it be to you to have chances for promotion? Please provide an answer chosen from \\n{options}\\nAssume you are from {nation} with nationality of birth being {nation}, currently {age} years old, working as a {gender} employee in a mid-sized company located in {city}. Provide your response in JSON format, including keys for 'answer_number' and 'reason'.\", ['1 = of utmost importance', '2 = very important', '3 = of moderate importance', '4 = of little importance', '5 = of very little or no importance'])]\n",
      "24\n"
     ]
    }
   ],
   "source": [
    "en_prompt_list = generate_question_prompts(question_df=en_question_df)\n",
    "\n",
    "print(en_prompt_list[5:10])\n",
    "print(len(en_prompt_list))"
   ]
  },
  {
   "cell_type": "code",
   "execution_count": 7,
   "id": "09d47e2f-5b11-4e1d-9f04-30dab7e94164",
   "metadata": {},
   "outputs": [
    {
     "data": {
      "text/html": [
       "<div>\n",
       "<style scoped>\n",
       "    .dataframe tbody tr th:only-of-type {\n",
       "        vertical-align: middle;\n",
       "    }\n",
       "\n",
       "    .dataframe tbody tr th {\n",
       "        vertical-align: top;\n",
       "    }\n",
       "\n",
       "    .dataframe thead th {\n",
       "        text-align: right;\n",
       "    }\n",
       "</style>\n",
       "<table border=\"1\" class=\"dataframe\">\n",
       "  <thead>\n",
       "    <tr style=\"text-align: right;\">\n",
       "      <th></th>\n",
       "      <th>gender</th>\n",
       "      <th>age</th>\n",
       "      <th>nation</th>\n",
       "      <th>city</th>\n",
       "    </tr>\n",
       "  </thead>\n",
       "  <tbody>\n",
       "    <tr>\n",
       "      <th>0</th>\n",
       "      <td>male</td>\n",
       "      <td>25</td>\n",
       "      <td>America</td>\n",
       "      <td>San Francisco</td>\n",
       "    </tr>\n",
       "    <tr>\n",
       "      <th>1</th>\n",
       "      <td>male</td>\n",
       "      <td>35</td>\n",
       "      <td>America</td>\n",
       "      <td>San Francisco</td>\n",
       "    </tr>\n",
       "    <tr>\n",
       "      <th>2</th>\n",
       "      <td>male</td>\n",
       "      <td>45</td>\n",
       "      <td>America</td>\n",
       "      <td>San Francisco</td>\n",
       "    </tr>\n",
       "    <tr>\n",
       "      <th>3</th>\n",
       "      <td>female</td>\n",
       "      <td>25</td>\n",
       "      <td>America</td>\n",
       "      <td>San Francisco</td>\n",
       "    </tr>\n",
       "    <tr>\n",
       "      <th>4</th>\n",
       "      <td>female</td>\n",
       "      <td>35</td>\n",
       "      <td>America</td>\n",
       "      <td>San Francisco</td>\n",
       "    </tr>\n",
       "  </tbody>\n",
       "</table>\n",
       "</div>"
      ],
      "text/plain": [
       "   gender  age   nation           city\n",
       "0    male   25  America  San Francisco\n",
       "1    male   35  America  San Francisco\n",
       "2    male   45  America  San Francisco\n",
       "3  female   25  America  San Francisco\n",
       "4  female   35  America  San Francisco"
      ]
     },
     "execution_count": 7,
     "metadata": {},
     "output_type": "execute_result"
    }
   ],
   "source": [
    "en_context_df = pd.read_csv(f\"{root_path}/vsm_english_context.csv\")\n",
    "\n",
    "en_context_df.head()"
   ]
  },
  {
   "cell_type": "code",
   "execution_count": 11,
   "id": "716f7de1-2e7f-43bd-8fc2-b8504e3ef538",
   "metadata": {},
   "outputs": [
    {
     "data": {
      "text/html": [
       "<div>\n",
       "<style scoped>\n",
       "    .dataframe tbody tr th:only-of-type {\n",
       "        vertical-align: middle;\n",
       "    }\n",
       "\n",
       "    .dataframe tbody tr th {\n",
       "        vertical-align: top;\n",
       "    }\n",
       "\n",
       "    .dataframe thead th {\n",
       "        text-align: right;\n",
       "    }\n",
       "</style>\n",
       "<table border=\"1\" class=\"dataframe\">\n",
       "  <thead>\n",
       "    <tr style=\"text-align: right;\">\n",
       "      <th></th>\n",
       "      <th>Unnamed: 0</th>\n",
       "      <th>questions</th>\n",
       "      <th>prompt</th>\n",
       "      <th>option_1</th>\n",
       "      <th>option_2</th>\n",
       "      <th>option_3</th>\n",
       "      <th>option_4</th>\n",
       "      <th>option_5</th>\n",
       "    </tr>\n",
       "  </thead>\n",
       "  <tbody>\n",
       "    <tr>\n",
       "      <th>0</th>\n",
       "      <td>m01</td>\n",
       "      <td>为个人生活或家庭生活留有充足的时间</td>\n",
       "      <td>在不考虑当前工作的情况下，请你设想一个理想的工作。在选择理想工作时，你认为下面一项表述：“{...</td>\n",
       "      <td>1 = 最重要</td>\n",
       "      <td>2 = 很重要</td>\n",
       "      <td>3 = 一般重要</td>\n",
       "      <td>4 = 不太重要</td>\n",
       "      <td>5 = 不重要或完全不重要</td>\n",
       "    </tr>\n",
       "    <tr>\n",
       "      <th>1</th>\n",
       "      <td>m02</td>\n",
       "      <td>一个让你尊敬的老板（直接上司）</td>\n",
       "      <td>None</td>\n",
       "      <td>None</td>\n",
       "      <td>None</td>\n",
       "      <td>None</td>\n",
       "      <td>None</td>\n",
       "      <td>None</td>\n",
       "    </tr>\n",
       "    <tr>\n",
       "      <th>2</th>\n",
       "      <td>m03</td>\n",
       "      <td>表现优良时给予认可</td>\n",
       "      <td>None</td>\n",
       "      <td>None</td>\n",
       "      <td>None</td>\n",
       "      <td>None</td>\n",
       "      <td>None</td>\n",
       "      <td>None</td>\n",
       "    </tr>\n",
       "    <tr>\n",
       "      <th>3</th>\n",
       "      <td>m04</td>\n",
       "      <td>工作稳定有保障</td>\n",
       "      <td>None</td>\n",
       "      <td>None</td>\n",
       "      <td>None</td>\n",
       "      <td>None</td>\n",
       "      <td>None</td>\n",
       "      <td>None</td>\n",
       "    </tr>\n",
       "    <tr>\n",
       "      <th>4</th>\n",
       "      <td>m05</td>\n",
       "      <td>与友善的人共事</td>\n",
       "      <td>None</td>\n",
       "      <td>None</td>\n",
       "      <td>None</td>\n",
       "      <td>None</td>\n",
       "      <td>None</td>\n",
       "      <td>None</td>\n",
       "    </tr>\n",
       "  </tbody>\n",
       "</table>\n",
       "</div>"
      ],
      "text/plain": [
       "  Unnamed: 0          questions  \\\n",
       "0        m01  为个人生活或家庭生活留有充足的时间   \n",
       "1        m02    一个让你尊敬的老板（直接上司）   \n",
       "2        m03          表现优良时给予认可   \n",
       "3        m04            工作稳定有保障   \n",
       "4        m05            与友善的人共事   \n",
       "\n",
       "                                              prompt option_1 option_2  \\\n",
       "0  在不考虑当前工作的情况下，请你设想一个理想的工作。在选择理想工作时，你认为下面一项表述：“{...  1 = 最重要  2 = 很重要   \n",
       "1                                               None     None     None   \n",
       "2                                               None     None     None   \n",
       "3                                               None     None     None   \n",
       "4                                               None     None     None   \n",
       "\n",
       "   option_3  option_4       option_5  \n",
       "0  3 = 一般重要  4 = 不太重要  5 = 不重要或完全不重要  \n",
       "1      None      None           None  \n",
       "2      None      None           None  \n",
       "3      None      None           None  \n",
       "4      None      None           None  "
      ]
     },
     "execution_count": 11,
     "metadata": {},
     "output_type": "execute_result"
    }
   ],
   "source": [
    "cn_question_df = pd.read_csv(f\"{root_path}/vsm2013_chinese_questions.csv\")\n",
    "cn_question_df = cn_question_df.where(pd.notnull(cn_question_df), None)\n",
    "cn_question_df.head()"
   ]
  },
  {
   "cell_type": "code",
   "execution_count": 12,
   "id": "af68be93-7964-4a03-bc1b-b031d46910a0",
   "metadata": {},
   "outputs": [
    {
     "data": {
      "text/html": [
       "<div>\n",
       "<style scoped>\n",
       "    .dataframe tbody tr th:only-of-type {\n",
       "        vertical-align: middle;\n",
       "    }\n",
       "\n",
       "    .dataframe tbody tr th {\n",
       "        vertical-align: top;\n",
       "    }\n",
       "\n",
       "    .dataframe thead th {\n",
       "        text-align: right;\n",
       "    }\n",
       "</style>\n",
       "<table border=\"1\" class=\"dataframe\">\n",
       "  <thead>\n",
       "    <tr style=\"text-align: right;\">\n",
       "      <th></th>\n",
       "      <th>gender</th>\n",
       "      <th>age</th>\n",
       "      <th>nation</th>\n",
       "      <th>city</th>\n",
       "    </tr>\n",
       "  </thead>\n",
       "  <tbody>\n",
       "    <tr>\n",
       "      <th>0</th>\n",
       "      <td>男性</td>\n",
       "      <td>25</td>\n",
       "      <td>美国</td>\n",
       "      <td>旧金山</td>\n",
       "    </tr>\n",
       "    <tr>\n",
       "      <th>1</th>\n",
       "      <td>男性</td>\n",
       "      <td>35</td>\n",
       "      <td>美国</td>\n",
       "      <td>旧金山</td>\n",
       "    </tr>\n",
       "    <tr>\n",
       "      <th>2</th>\n",
       "      <td>男性</td>\n",
       "      <td>45</td>\n",
       "      <td>美国</td>\n",
       "      <td>旧金山</td>\n",
       "    </tr>\n",
       "    <tr>\n",
       "      <th>3</th>\n",
       "      <td>女性</td>\n",
       "      <td>25</td>\n",
       "      <td>美国</td>\n",
       "      <td>旧金山</td>\n",
       "    </tr>\n",
       "    <tr>\n",
       "      <th>4</th>\n",
       "      <td>女性</td>\n",
       "      <td>35</td>\n",
       "      <td>美国</td>\n",
       "      <td>旧金山</td>\n",
       "    </tr>\n",
       "  </tbody>\n",
       "</table>\n",
       "</div>"
      ],
      "text/plain": [
       "  gender  age nation city\n",
       "0     男性   25     美国  旧金山\n",
       "1     男性   35     美国  旧金山\n",
       "2     男性   45     美国  旧金山\n",
       "3     女性   25     美国  旧金山\n",
       "4     女性   35     美国  旧金山"
      ]
     },
     "execution_count": 12,
     "metadata": {},
     "output_type": "execute_result"
    }
   ],
   "source": [
    "cn_context_df = pd.read_csv(f\"{root_path}/vsm_chinese_context.csv\")\n",
    "\n",
    "cn_context_df.head()"
   ]
  },
  {
   "cell_type": "code",
   "execution_count": 13,
   "id": "46972dae-9a88-44f9-bb96-4b68b56a9d94",
   "metadata": {},
   "outputs": [
    {
     "name": "stdout",
     "output_type": "stream",
     "text": [
      "[('在不考虑当前工作的情况下，请你设想一个理想的工作。在选择理想工作时，你认为下面一项表述：“有趣的工作内容” 对你的重要程度是：\\r\\n\\r\\n{options}\\r\\n\\r\\n设想你来自{nation}，出生地同样是{nation}。目前，你在{city}的一家中型公司工作。年龄为{age}岁，性别为{gender}。请根据随后的设定选择最符合你的答案，并以JSON格式回答。', ['1 = 最重要', '2 = 很重要', '3 = 一般重要', '4 = 不太重要', '5 = 不重要或完全不重要']), ('在不考虑当前工作的情况下，请你设想一个理想的工作。在选择理想工作时，你认为下面一项表述：“当上司的决定涉及到你的工作时，他会咨询你的意见                            ” 对你的重要程度是：\\r\\n\\r\\n{options}\\r\\n\\r\\n设想你来自{nation}，出生地同样是{nation}。目前，你在{city}的一家中型公司工作。年龄为{age}岁，性别为{gender}。请根据随后的设定选择最符合你的答案，并以JSON格式回答。', ['1 = 最重要', '2 = 很重要', '3 = 一般重要', '4 = 不太重要', '5 = 不重要或完全不重要']), ('在不考虑当前工作的情况下，请你设想一个理想的工作。在选择理想工作时，你认为下面一项表述：“舒适的工作环境” 对你的重要程度是：\\r\\n\\r\\n{options}\\r\\n\\r\\n设想你来自{nation}，出生地同样是{nation}。目前，你在{city}的一家中型公司工作。年龄为{age}岁，性别为{gender}。请根据随后的设定选择最符合你的答案，并以JSON格式回答。', ['1 = 最重要', '2 = 很重要', '3 = 一般重要', '4 = 不太重要', '5 = 不重要或完全不重要']), ('在不考虑当前工作的情况下，请你设想一个理想的工作。在选择理想工作时，你认为下面一项表述：“该工作受到你的朋友和家人的尊重” 对你的重要程度是：\\r\\n\\r\\n{options}\\r\\n\\r\\n设想你来自{nation}，出生地同样是{nation}。目前，你在{city}的一家中型公司工作。年龄为{age}岁，性别为{gender}。请根据随后的设定选择最符合你的答案，并以JSON格式回答。', ['1 = 最重要', '2 = 很重要', '3 = 一般重要', '4 = 不太重要', '5 = 不重要或完全不重要']), ('在不考虑当前工作的情况下，请你设想一个理想的工作。在选择理想工作时，你认为下面一项表述：“有升职的机会” 对你的重要程度是：\\r\\n\\r\\n{options}\\r\\n\\r\\n设想你来自{nation}，出生地同样是{nation}。目前，你在{city}的一家中型公司工作。年龄为{age}岁，性别为{gender}。请根据随后的设定选择最符合你的答案，并以JSON格式回答。', ['1 = 最重要', '2 = 很重要', '3 = 一般重要', '4 = 不太重要', '5 = 不重要或完全不重要'])]\n",
      "24\n"
     ]
    }
   ],
   "source": [
    "cn_prompt_list = generate_question_prompts(question_df=cn_question_df)\n",
    "\n",
    "print(cn_prompt_list[5:10])\n",
    "print(len(cn_prompt_list))"
   ]
  },
  {
   "cell_type": "markdown",
   "id": "04264216-5d5b-4e6e-9df6-05e6137b1b75",
   "metadata": {},
   "source": [
    "## Llama2-7b"
   ]
  },
  {
   "cell_type": "code",
   "execution_count": null,
   "id": "b5310558-d719-4559-8427-ea72a75b7c79",
   "metadata": {},
   "outputs": [],
   "source": [
    "config_yaml = \"/root/Projects/llm-client/config_yamls/llama2-7b-chat-vllm.yaml\"\n",
    "\n",
    "pipeline = Pipeline(config_yaml, verbose=1)"
   ]
  },
  {
   "cell_type": "code",
   "execution_count": null,
   "id": "cfbabf0f-9270-40c6-bb27-daafed3809c7",
   "metadata": {},
   "outputs": [],
   "source": [
    "testing_result = await pipeline.model_predict(\"who are you?\")\n",
    "\n",
    "print(testing_result)"
   ]
  },
  {
   "cell_type": "code",
   "execution_count": null,
   "id": "7b1a47ec-4804-4f94-ba54-a455124c1728",
   "metadata": {},
   "outputs": [],
   "source": [
    "output_path = root_path + \"/experiments_results/Llama2_7b/english/no_shuffle/result_{seed}.csv\""
   ]
  },
  {
   "cell_type": "code",
   "execution_count": null,
   "id": "408d7f63-6efb-4db1-8895-eaea3801eaae",
   "metadata": {
    "scrolled": true
   },
   "outputs": [],
   "source": [
    "await get_experiment_result(\n",
    "    question_prompts = en_prompt_list,\n",
    "    experiment_context = en_context_df,\n",
    "    output_path = output_path,\n",
    "    pipeline = pipeline,\n",
    "    chunk_size = 50,\n",
    "    use_random_options = False,\n",
    "    additional_prompt = en_additional_prompt,\n",
    ")"
   ]
  },
  {
   "cell_type": "code",
   "execution_count": null,
   "id": "d357c18c-1ba5-4ca4-8c88-50e82abbe7f2",
   "metadata": {
    "scrolled": true
   },
   "outputs": [],
   "source": [
    "output_path = root_path + \"/experiments_results/Llama2_7b/english/shuffle/result_{seed}.csv\"\n",
    "\n",
    "await get_experiment_result(\n",
    "    question_prompts = en_prompt_list,\n",
    "    experiment_context = en_context_df,\n",
    "    output_path = output_path,\n",
    "    pipeline = pipeline,\n",
    "    chunk_size = 50,\n",
    "    use_random_options = True,\n",
    "    additional_prompt = en_additional_prompt,\n",
    ")"
   ]
  },
  {
   "cell_type": "markdown",
   "id": "e9b3fc0e-e010-4aaa-b1d0-3581ed6cbd45",
   "metadata": {},
   "source": [
    "## Llama2-13b"
   ]
  },
  {
   "cell_type": "code",
   "execution_count": null,
   "id": "93a06e50-a749-4bb7-94a2-49aa762d7408",
   "metadata": {},
   "outputs": [],
   "source": [
    "config_yaml = \"/root/Projects/llm-client/config_yamls/llama2-13b-chat-vllm.yaml\"\n",
    "\n",
    "pipeline = Pipeline(config_yaml, verbose=1)"
   ]
  },
  {
   "cell_type": "code",
   "execution_count": null,
   "id": "7b4437da-2026-4382-885a-4ad60191efda",
   "metadata": {},
   "outputs": [],
   "source": [
    "testing_result = await pipeline.model_predict(\"who are you?\")\n",
    "\n",
    "print(testing_result)"
   ]
  },
  {
   "cell_type": "code",
   "execution_count": null,
   "id": "35435f12-7a3f-4feb-98da-bd300ee94d09",
   "metadata": {},
   "outputs": [],
   "source": [
    "output_path = root_path + \"/experiments_results/Llama2_13b/english/no_shuffle/result_{seed}.csv\""
   ]
  },
  {
   "cell_type": "code",
   "execution_count": null,
   "id": "01318b30-ca7a-4236-a8f1-d1e08b493543",
   "metadata": {
    "scrolled": true
   },
   "outputs": [],
   "source": [
    "await get_experiment_result(\n",
    "    question_prompts = en_prompt_list,\n",
    "    experiment_context = en_context_df,\n",
    "    output_path = output_path,\n",
    "    pipeline = pipeline,\n",
    "    chunk_size = 50,\n",
    "    use_random_options = False,\n",
    "    additional_prompt = en_additional_prompt,\n",
    ")"
   ]
  },
  {
   "cell_type": "code",
   "execution_count": null,
   "id": "02239fa9-7eb5-414c-b901-cb15ab099e7c",
   "metadata": {},
   "outputs": [],
   "source": [
    "output_path = root_path + \"/experiments_results/Llama2_13b/english/shuffle/result_{seed}.csv\"\n",
    "\n",
    "await get_experiment_result(\n",
    "    question_prompts = en_prompt_list,\n",
    "    experiment_context = en_context_df,\n",
    "    output_path = output_path,\n",
    "    pipeline = pipeline,\n",
    "    chunk_size = 50,\n",
    "    use_random_options = True,\n",
    "    additional_prompt = en_additional_prompt,\n",
    ")"
   ]
  },
  {
   "cell_type": "markdown",
   "id": "1377c339-1ce5-489a-bfaa-abf8fe73d95f",
   "metadata": {},
   "source": [
    "## Qwen-14B"
   ]
  },
  {
   "cell_type": "code",
   "execution_count": 2,
   "id": "d993a899-4dbb-484b-8c0c-5e4c133e4681",
   "metadata": {},
   "outputs": [
    {
     "name": "stderr",
     "output_type": "stream",
     "text": [
      "2024-01-23 09:22:33,623 - \u001b[32mINFO\u001b[0m - pipeline.py:21 - pipeline.__init__ - 85053 - parameters for every request: {'max_tokens': 512, 'stop': ['<|im_end|>']}\n"
     ]
    }
   ],
   "source": [
    "config_yaml = \"/root/Projects/llm-client/config_yamls/qwen-14b-chat-vllm.yaml\"\n",
    "\n",
    "pipeline = Pipeline(config_yaml, verbose=1)"
   ]
  },
  {
   "cell_type": "code",
   "execution_count": 3,
   "id": "629599a6-c3de-4336-acdf-809f5c9e7dce",
   "metadata": {},
   "outputs": [
    {
     "name": "stdout",
     "output_type": "stream",
     "text": [
      "I am QianWen, a pre-trained language model developed by Alibaba Cloud. My purpose is to assist users in generating various types of text, such as articles, stories, poems, and answering questions. How may I assist you today?\n"
     ]
    }
   ],
   "source": [
    "testing_result = await pipeline.model_predict(\"who are you?\")\n",
    "\n",
    "print(testing_result)"
   ]
  },
  {
   "cell_type": "code",
   "execution_count": 5,
   "id": "940086a7-8cc1-4c1f-b38f-994ef7c5b61b",
   "metadata": {},
   "outputs": [
    {
     "name": "stdout",
     "output_type": "stream",
     "text": [
      "草帽路飞是日本漫画家尾田荣一郎所创作的漫画《海贼王》中的主角，是蒙奇·D·路飞的名字。草帽路飞是一位勇敢的海贼，他梦想着找到传说中的“One Piece”，成为海贼王。他有一个大鼻子和一头红发，是草帽海贼团的船长，也是故事中最受欢迎的角色之一。\n"
     ]
    }
   ],
   "source": [
    "testing_result = await pipeline.model_predict(\"你知道草帽路飞吗\")\n",
    "\n",
    "print(testing_result)"
   ]
  },
  {
   "cell_type": "code",
   "execution_count": null,
   "id": "673a9b35-67d0-4b03-af70-38790c73ade9",
   "metadata": {},
   "outputs": [],
   "source": []
  }
 ],
 "metadata": {
  "kernelspec": {
   "display_name": "llm_cultural_values_env",
   "language": "python",
   "name": "llm_cultural_values_env"
  },
  "language_info": {
   "codemirror_mode": {
    "name": "ipython",
    "version": 3
   },
   "file_extension": ".py",
   "mimetype": "text/x-python",
   "name": "python",
   "nbconvert_exporter": "python",
   "pygments_lexer": "ipython3",
   "version": "3.9.18"
  }
 },
 "nbformat": 4,
 "nbformat_minor": 5
}
